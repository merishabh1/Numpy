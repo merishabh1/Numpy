{
  "cells": [
    {
      "cell_type": "markdown",
      "metadata": {
        "id": "view-in-github",
        "colab_type": "text"
      },
      "source": [
        "<a href=\"https://colab.research.google.com/github/merishabh1/Numpy/blob/main/00_NumPy_Arrays.ipynb\" target=\"_parent\"><img src=\"https://colab.research.google.com/assets/colab-badge.svg\" alt=\"Open In Colab\"/></a>"
      ]
    },
    {
      "cell_type": "markdown",
      "metadata": {
        "id": "kGTXunLx6Trz"
      },
      "source": [
        "# NumPy \n",
        "\n",
        "NumPy is a powerful linear algebra library for Python. What makes it so important is that almost all of the libraries in the <a href='https://pydata.org/'>PyData</a> ecosystem (pandas, scipy, scikit-learn, etc.) rely on NumPy as one of their main building blocks. Plus we will use it to generate data for our analysis examples later on!\n",
        "\n",
        "NumPy is also incredibly fast, as it has bindings to C libraries. For more info on why you would want to use arrays instead of lists, check out this great [StackOverflow post](http://stackoverflow.com/questions/993984/why-numpy-instead-of-python-lists).\n",
        "\n",
        "We will only learn the basics of NumPy. To get started we need to install it!"
      ]
    },
    {
      "cell_type": "markdown",
      "metadata": {
        "id": "yvHbm3yb6Tr0"
      },
      "source": [
        "## *Note*: Numpy Installation Instructions\n",
        "\n",
        "### NumPy is already included in your environment! We HIGHLY recommend using our environment as shown in the setup and installation lecture. You are good to go if you are using the course environment!\n",
        "\n",
        "_____\n",
        "##### For those not using the provided environment:\n",
        "\n",
        "**It is highly recommended you install Python using the Anaconda distribution to make sure all underlying dependencies (such as Linear Algebra libraries) all sync up with the use of a conda install. If you have Anaconda, install NumPy by going to your terminal or command prompt and typing:**\n",
        "    \n",
        "    conda install numpy\n",
        "    \n",
        "    \n",
        "**If you do not have Anaconda and can not install it, please refer to [Numpy's official documentation on various installation instructions.](https://www.scipy.org/install.html)**\n",
        "\n",
        "_____"
      ]
    },
    {
      "cell_type": "markdown",
      "metadata": {
        "id": "CTOh_kpp6Tr1"
      },
      "source": [
        "## Importing NumPy\n",
        "\n",
        "Once you've installed NumPy you can import it as a library:"
      ]
    },
    {
      "cell_type": "code",
      "execution_count": 1,
      "metadata": {
        "id": "6BeSMlyq6Tr2"
      },
      "outputs": [],
      "source": [
        "import numpy as np"
      ]
    },
    {
      "cell_type": "markdown",
      "metadata": {
        "id": "FZvlQffy6Tr3"
      },
      "source": [
        "NumPy has many built-in functions and capabilities. We won't cover them all but instead we will focus on some of the most important aspects of NumPy: vectors, arrays, matrices and number generation. Let's start by discussing arrays.\n",
        "\n",
        "# NumPy Arrays\n",
        "\n",
        "NumPy arrays are the main way we will use NumPy throughout the course. NumPy arrays essentially come in two flavors: vectors and matrices. Vectors are strictly 1-dimensional (1D) arrays and matrices are 2D (but you should note a matrix can still have only one row or one column).\n",
        "\n",
        "## Why use Numpy array? Why not just a list?\n",
        "\n",
        "There are lot's of reasons to use a Numpy array instead of a \"standard\" python list object. Our main reasons are:\n",
        "* Memory Efficiency of Numpy Array vs list\n",
        "* Easily expands to N-dimensional objects\n",
        "* Speed of calculations of numpy array\n",
        "* Broadcasting operations and functions with numpy\n",
        "* All the data science and machine learning libraries we use are built with Numpy\n",
        "\n",
        "## Simple Example of what numpy array can do"
      ]
    },
    {
      "cell_type": "code",
      "execution_count": 2,
      "metadata": {
        "id": "R0gXz8UQ6Tr4"
      },
      "outputs": [],
      "source": [
        "my_list = [1,2,3]\n",
        "my_array = np.array([1,2,3])"
      ]
    },
    {
      "cell_type": "code",
      "execution_count": 3,
      "metadata": {
        "colab": {
          "base_uri": "https://localhost:8080/"
        },
        "id": "MKcaL4QZ6Tr5",
        "outputId": "18313d52-0519-495b-c3d4-4ee34d4f37ed"
      },
      "outputs": [
        {
          "output_type": "execute_result",
          "data": {
            "text/plain": [
              "list"
            ]
          },
          "metadata": {},
          "execution_count": 3
        }
      ],
      "source": [
        "type(my_list)"
      ]
    },
    {
      "cell_type": "code",
      "execution_count": 4,
      "metadata": {
        "colab": {
          "base_uri": "https://localhost:8080/"
        },
        "id": "9zekCzuJ6Tr6",
        "outputId": "7cf02bcd-7922-499d-8724-cf1441c78b82"
      },
      "outputs": [
        {
          "output_type": "execute_result",
          "data": {
            "text/plain": [
              "numpy.ndarray"
            ]
          },
          "metadata": {},
          "execution_count": 4
        }
      ],
      "source": [
        "type(my_array)"
      ]
    },
    {
      "cell_type": "markdown",
      "metadata": {
        "id": "dvGZd-ho6Tr6"
      },
      "source": [
        "Let's begin our introduction by exploring how to create NumPy arrays.\n",
        "\n",
        "## Creating NumPy Arrays from Objects\n",
        "\n",
        "### From a Python List\n",
        "\n",
        "We can create an array by directly converting a list or list of lists:"
      ]
    },
    {
      "cell_type": "code",
      "execution_count": 5,
      "metadata": {
        "colab": {
          "base_uri": "https://localhost:8080/"
        },
        "id": "ljp2XhtB6Tr7",
        "outputId": "55cc7f7c-e8bf-45d9-c2f8-500cfd342d79"
      },
      "outputs": [
        {
          "output_type": "execute_result",
          "data": {
            "text/plain": [
              "[1, 2, 3]"
            ]
          },
          "metadata": {},
          "execution_count": 5
        }
      ],
      "source": [
        "my_list = [1,2,3]\n",
        "my_list"
      ]
    },
    {
      "cell_type": "code",
      "execution_count": 6,
      "metadata": {
        "colab": {
          "base_uri": "https://localhost:8080/"
        },
        "id": "JfejxJVb6Tr7",
        "outputId": "2d9b8397-9ac4-451d-ad4b-b36afee393fe"
      },
      "outputs": [
        {
          "output_type": "execute_result",
          "data": {
            "text/plain": [
              "array([1, 2, 3])"
            ]
          },
          "metadata": {},
          "execution_count": 6
        }
      ],
      "source": [
        "np.array(my_list)"
      ]
    },
    {
      "cell_type": "code",
      "execution_count": 7,
      "metadata": {
        "colab": {
          "base_uri": "https://localhost:8080/"
        },
        "id": "TLcfRIM16Tr7",
        "outputId": "f8c0c55d-4e38-4f9c-e0d7-244a3d3a34f4"
      },
      "outputs": [
        {
          "output_type": "execute_result",
          "data": {
            "text/plain": [
              "[[1, 2, 3], [4, 5, 6], [7, 8, 9]]"
            ]
          },
          "metadata": {},
          "execution_count": 7
        }
      ],
      "source": [
        "my_matrix = [[1,2,3],[4,5,6],[7,8,9]]\n",
        "my_matrix"
      ]
    },
    {
      "cell_type": "code",
      "execution_count": 8,
      "metadata": {
        "colab": {
          "base_uri": "https://localhost:8080/"
        },
        "id": "8hQkWowZ6Tr8",
        "outputId": "2be0f7b4-33c9-4bc7-ddd0-81cbc3ddf419"
      },
      "outputs": [
        {
          "output_type": "execute_result",
          "data": {
            "text/plain": [
              "array([[1, 2, 3],\n",
              "       [4, 5, 6],\n",
              "       [7, 8, 9]])"
            ]
          },
          "metadata": {},
          "execution_count": 8
        }
      ],
      "source": [
        "np.array(my_matrix)"
      ]
    },
    {
      "cell_type": "markdown",
      "metadata": {
        "id": "_4UFprIE6Tr8"
      },
      "source": [
        "## Built-in Methods to create arrays\n",
        "\n",
        "There are lots of built-in ways to generate arrays."
      ]
    },
    {
      "cell_type": "markdown",
      "metadata": {
        "id": "sCwtKO486Tr8"
      },
      "source": [
        "### arange\n",
        "\n",
        "Return evenly spaced values within a given interval. [[reference](https://docs.scipy.org/doc/numpy-1.15.0/reference/generated/numpy.arange.html)]"
      ]
    },
    {
      "cell_type": "code",
      "execution_count": 9,
      "metadata": {
        "colab": {
          "base_uri": "https://localhost:8080/"
        },
        "id": "EpZPFe3n6Tr8",
        "outputId": "7e6f15c7-4773-4677-9015-6f8fd42fe043"
      },
      "outputs": [
        {
          "output_type": "execute_result",
          "data": {
            "text/plain": [
              "array([0, 1, 2, 3, 4, 5, 6, 7, 8, 9])"
            ]
          },
          "metadata": {},
          "execution_count": 9
        }
      ],
      "source": [
        "np.arange(0,10)"
      ]
    },
    {
      "cell_type": "code",
      "execution_count": 10,
      "metadata": {
        "colab": {
          "base_uri": "https://localhost:8080/"
        },
        "id": "RQv1KRrz6Tr9",
        "outputId": "ef5879e1-90ce-488b-c943-218e482a23c5"
      },
      "outputs": [
        {
          "output_type": "execute_result",
          "data": {
            "text/plain": [
              "array([ 0,  2,  4,  6,  8, 10])"
            ]
          },
          "metadata": {},
          "execution_count": 10
        }
      ],
      "source": [
        "np.arange(0,11,2)"
      ]
    },
    {
      "cell_type": "markdown",
      "metadata": {
        "id": "4O4In0V86Tr9"
      },
      "source": [
        "### zeros and ones\n",
        "\n",
        "Generate arrays of zeros or ones. [[reference](https://docs.scipy.org/doc/numpy-1.15.0/reference/generated/numpy.zeros.html)]"
      ]
    },
    {
      "cell_type": "code",
      "execution_count": 11,
      "metadata": {
        "colab": {
          "base_uri": "https://localhost:8080/"
        },
        "id": "Cw0y31Ad6Tr9",
        "outputId": "d7ba528e-302f-48a2-9321-8954f935025d"
      },
      "outputs": [
        {
          "output_type": "execute_result",
          "data": {
            "text/plain": [
              "array([0., 0., 0.])"
            ]
          },
          "metadata": {},
          "execution_count": 11
        }
      ],
      "source": [
        "np.zeros(3)"
      ]
    },
    {
      "cell_type": "code",
      "execution_count": 12,
      "metadata": {
        "colab": {
          "base_uri": "https://localhost:8080/"
        },
        "id": "IkiZzOIA6Tr-",
        "outputId": "b74622de-3a94-4f11-a2c2-1bdfcf04562d"
      },
      "outputs": [
        {
          "output_type": "execute_result",
          "data": {
            "text/plain": [
              "array([[0., 0., 0., 0., 0.],\n",
              "       [0., 0., 0., 0., 0.],\n",
              "       [0., 0., 0., 0., 0.],\n",
              "       [0., 0., 0., 0., 0.],\n",
              "       [0., 0., 0., 0., 0.]])"
            ]
          },
          "metadata": {},
          "execution_count": 12
        }
      ],
      "source": [
        "np.zeros((5,5))"
      ]
    },
    {
      "cell_type": "code",
      "execution_count": null,
      "metadata": {
        "id": "PbuW2ghJ6Tr-",
        "outputId": "11971b09-dbda-4244-ae1f-c8beb5d354e5"
      },
      "outputs": [
        {
          "data": {
            "text/plain": [
              "array([1., 1., 1.])"
            ]
          },
          "execution_count": 10,
          "metadata": {},
          "output_type": "execute_result"
        }
      ],
      "source": [
        "np.ones(3)"
      ]
    },
    {
      "cell_type": "code",
      "execution_count": null,
      "metadata": {
        "id": "7YpYmqMg6Tr-",
        "outputId": "f5d51917-d01a-4e83-f54e-322ab890955b"
      },
      "outputs": [
        {
          "data": {
            "text/plain": [
              "array([[1., 1., 1.],\n",
              "       [1., 1., 1.],\n",
              "       [1., 1., 1.]])"
            ]
          },
          "execution_count": 11,
          "metadata": {},
          "output_type": "execute_result"
        }
      ],
      "source": [
        "np.ones((3,3))"
      ]
    },
    {
      "cell_type": "markdown",
      "metadata": {
        "id": "wsj3Tz7R6Tr_"
      },
      "source": [
        "### linspace \n",
        "Return evenly spaced numbers over a specified interval. [[reference](https://www.numpy.org/devdocs/reference/generated/numpy.linspace.html)]"
      ]
    },
    {
      "cell_type": "code",
      "execution_count": null,
      "metadata": {
        "id": "4vcKJotF6Tr_",
        "outputId": "f2d6ba12-7c1b-4821-8043-f71285739cd9"
      },
      "outputs": [
        {
          "data": {
            "text/plain": [
              "array([ 0.,  5., 10.])"
            ]
          },
          "execution_count": 12,
          "metadata": {},
          "output_type": "execute_result"
        }
      ],
      "source": [
        "np.linspace(0,10,3)"
      ]
    },
    {
      "cell_type": "code",
      "execution_count": null,
      "metadata": {
        "id": "BWiNGlPS6Tr_",
        "outputId": "65931f53-fe58-48cc-ef27-7c8f13cfae42"
      },
      "outputs": [
        {
          "data": {
            "text/plain": [
              "array([0.        , 0.26315789, 0.52631579, 0.78947368, 1.05263158,\n",
              "       1.31578947, 1.57894737, 1.84210526, 2.10526316, 2.36842105,\n",
              "       2.63157895, 2.89473684, 3.15789474, 3.42105263, 3.68421053,\n",
              "       3.94736842, 4.21052632, 4.47368421, 4.73684211, 5.        ])"
            ]
          },
          "execution_count": 13,
          "metadata": {},
          "output_type": "execute_result"
        }
      ],
      "source": [
        "np.linspace(0,5,20)"
      ]
    },
    {
      "cell_type": "markdown",
      "metadata": {
        "id": "65UlMZXO6Tr_"
      },
      "source": [
        "<font color=green>Note that `.linspace()` *includes* the stop value. To obtain an array of common fractions, increase the number of items:</font>"
      ]
    },
    {
      "cell_type": "code",
      "execution_count": null,
      "metadata": {
        "id": "03u21jZ56TsA",
        "outputId": "03c04be9-659f-4268-f8ac-47995c3c4902"
      },
      "outputs": [
        {
          "data": {
            "text/plain": [
              "array([0.  , 0.25, 0.5 , 0.75, 1.  , 1.25, 1.5 , 1.75, 2.  , 2.25, 2.5 ,\n",
              "       2.75, 3.  , 3.25, 3.5 , 3.75, 4.  , 4.25, 4.5 , 4.75, 5.  ])"
            ]
          },
          "execution_count": 14,
          "metadata": {},
          "output_type": "execute_result"
        }
      ],
      "source": [
        "np.linspace(0,5,21)"
      ]
    },
    {
      "cell_type": "markdown",
      "metadata": {
        "id": "GVGwwkRV6TsA"
      },
      "source": [
        "### eye\n",
        "\n",
        "Creates an identity matrix [[reference](https://docs.scipy.org/doc/numpy-1.15.0/reference/generated/numpy.eye.html)]"
      ]
    },
    {
      "cell_type": "code",
      "execution_count": null,
      "metadata": {
        "id": "lfIec-Dw6TsA",
        "outputId": "2b1ceb9b-fa07-455f-ec7a-64a4dd98c9a9"
      },
      "outputs": [
        {
          "data": {
            "text/plain": [
              "array([[1., 0., 0., 0.],\n",
              "       [0., 1., 0., 0.],\n",
              "       [0., 0., 1., 0.],\n",
              "       [0., 0., 0., 1.]])"
            ]
          },
          "execution_count": 15,
          "metadata": {},
          "output_type": "execute_result"
        }
      ],
      "source": [
        "np.eye(4)"
      ]
    },
    {
      "cell_type": "markdown",
      "metadata": {
        "id": "-ckLzIk86TsA"
      },
      "source": [
        "## Random \n",
        "Numpy also has lots of ways to create random number arrays:\n",
        "\n",
        "### rand\n",
        "Creates an array of the given shape and populates it with random samples from a uniform distribution over ``[0, 1)``. [[reference](https://docs.scipy.org/doc/numpy-1.15.0/reference/generated/numpy.random.rand.html)]"
      ]
    },
    {
      "cell_type": "code",
      "execution_count": null,
      "metadata": {
        "id": "d7QVoUc46TsB",
        "outputId": "c9514c07-7b6a-4a53-af0d-72445de23e1b"
      },
      "outputs": [
        {
          "data": {
            "text/plain": [
              "array([0.37065108, 0.89813878])"
            ]
          },
          "execution_count": 16,
          "metadata": {},
          "output_type": "execute_result"
        }
      ],
      "source": [
        "np.random.rand(2)"
      ]
    },
    {
      "cell_type": "code",
      "execution_count": null,
      "metadata": {
        "id": "T5becUK36TsB",
        "outputId": "2e26487e-ed5e-4bfc-bfb6-f4384b93f9c6"
      },
      "outputs": [
        {
          "data": {
            "text/plain": [
              "array([[0.03932992, 0.80719137, 0.50145497, 0.68816102, 0.1216304 ],\n",
              "       [0.44966851, 0.92572848, 0.70802042, 0.10461719, 0.53768331],\n",
              "       [0.12201904, 0.5940684 , 0.89979774, 0.3424078 , 0.77421593],\n",
              "       [0.53191409, 0.0112285 , 0.3989947 , 0.8946967 , 0.2497392 ],\n",
              "       [0.5814085 , 0.37563686, 0.15266028, 0.42948309, 0.26434141]])"
            ]
          },
          "execution_count": 17,
          "metadata": {},
          "output_type": "execute_result"
        }
      ],
      "source": [
        "np.random.rand(5,5)"
      ]
    },
    {
      "cell_type": "markdown",
      "metadata": {
        "id": "WuImQHUp6TsC"
      },
      "source": [
        "### randn\n",
        "\n",
        "Returns a sample (or samples) from the \"standard normal\" distribution [σ = 1]. Unlike **rand** which is uniform, values closer to zero are more likely to appear. [[reference](https://docs.scipy.org/doc/numpy-1.15.0/reference/generated/numpy.random.randn.html)]"
      ]
    },
    {
      "cell_type": "code",
      "execution_count": null,
      "metadata": {
        "id": "w8v-hZuK6TsC",
        "outputId": "678b7dbb-9b17-4d09-ea9d-d9a69002c776"
      },
      "outputs": [
        {
          "data": {
            "text/plain": [
              "array([-0.36633217, -1.40298731])"
            ]
          },
          "execution_count": 18,
          "metadata": {},
          "output_type": "execute_result"
        }
      ],
      "source": [
        "np.random.randn(2)"
      ]
    },
    {
      "cell_type": "code",
      "execution_count": null,
      "metadata": {
        "id": "0p6-P00s6TsD",
        "outputId": "1a5eb029-b13f-4053-a21f-9b54a9b78bca"
      },
      "outputs": [
        {
          "data": {
            "text/plain": [
              "array([[-0.45241033,  1.07491082,  1.95698188,  0.40660223, -1.50445807],\n",
              "       [ 0.31434506, -2.16912609, -0.51237235,  0.78663583, -0.61824678],\n",
              "       [-0.17569928, -2.39139828,  0.30905559,  0.1616695 ,  0.33783857],\n",
              "       [-0.2206597 , -0.05768918,  0.74882883, -1.01241629, -1.81729966],\n",
              "       [-0.74891671,  0.88934796,  1.32275912, -0.71605188,  0.0450718 ]])"
            ]
          },
          "execution_count": 19,
          "metadata": {},
          "output_type": "execute_result"
        }
      ],
      "source": [
        "np.random.randn(5,5)"
      ]
    },
    {
      "cell_type": "markdown",
      "metadata": {
        "id": "c-vuwi636TsD"
      },
      "source": [
        "### randint\n",
        "Returns random integers from `low` (inclusive) to `high` (exclusive).  [[reference](https://docs.scipy.org/doc/numpy-1.15.0/reference/generated/numpy.random.randint.html)]"
      ]
    },
    {
      "cell_type": "code",
      "execution_count": null,
      "metadata": {
        "id": "Mmlw13OH6TsD",
        "outputId": "8b82f23d-d76c-4cb4-cd16-6ffa798205cb"
      },
      "outputs": [
        {
          "data": {
            "text/plain": [
              "61"
            ]
          },
          "execution_count": 20,
          "metadata": {},
          "output_type": "execute_result"
        }
      ],
      "source": [
        "np.random.randint(1,100)"
      ]
    },
    {
      "cell_type": "code",
      "source": [
        "np.random.randint(1,100,(10,10))"
      ],
      "metadata": {
        "colab": {
          "base_uri": "https://localhost:8080/"
        },
        "id": "R8j8J6_n8ajM",
        "outputId": "5935a50b-e0a6-4d93-9e0e-28a93f78a4fd"
      },
      "execution_count": 14,
      "outputs": [
        {
          "output_type": "execute_result",
          "data": {
            "text/plain": [
              "array([[48, 57, 45, 32, 81,  3, 78, 83, 78, 98],\n",
              "       [37, 12, 92, 97, 26, 71, 81, 77, 35, 89],\n",
              "       [45, 48, 23, 76,  3, 74, 67, 95, 70, 16],\n",
              "       [ 3, 31, 61, 79, 39, 89, 66, 88, 15, 84],\n",
              "       [71, 72, 14, 52, 71, 32, 60, 24, 55, 76],\n",
              "       [34, 93, 82, 25, 60, 58, 18, 32, 66, 92],\n",
              "       [98, 18, 65, 14, 14, 23, 27, 63, 80, 48],\n",
              "       [42, 60, 17, 48, 62, 96, 19, 85, 30, 79],\n",
              "       [17, 28, 43, 64, 73, 97, 68, 91, 83, 93],\n",
              "       [86, 72, 99, 97, 47, 72, 93,  1, 11, 60]])"
            ]
          },
          "metadata": {},
          "execution_count": 14
        }
      ]
    },
    {
      "cell_type": "code",
      "execution_count": null,
      "metadata": {
        "id": "XwZS3RNH6TsE",
        "outputId": "248295ab-25f1-4cf7-e369-b27675b11a77"
      },
      "outputs": [
        {
          "data": {
            "text/plain": [
              "array([39, 50, 72, 18, 27, 59, 15, 97, 11, 14])"
            ]
          },
          "execution_count": 21,
          "metadata": {},
          "output_type": "execute_result"
        }
      ],
      "source": [
        "np.random.randint(1,100,10)"
      ]
    },
    {
      "cell_type": "markdown",
      "metadata": {
        "id": "eynOxODm6TsE"
      },
      "source": [
        "### seed\n",
        "Can be used to set the random state, so that the same \"random\" results can be reproduced. [[reference](https://docs.scipy.org/doc/numpy-1.15.0/reference/generated/numpy.random.seed.html)]"
      ]
    },
    {
      "cell_type": "code",
      "execution_count": null,
      "metadata": {
        "id": "uhW_WR7H6TsE",
        "outputId": "a83cce22-e008-4649-d069-589428f89817"
      },
      "outputs": [
        {
          "data": {
            "text/plain": [
              "array([0.37454012, 0.95071431, 0.73199394, 0.59865848])"
            ]
          },
          "execution_count": 22,
          "metadata": {},
          "output_type": "execute_result"
        }
      ],
      "source": [
        "np.random.seed(42)\n",
        "np.random.rand(4)"
      ]
    },
    {
      "cell_type": "code",
      "execution_count": null,
      "metadata": {
        "id": "yepyAFy56TsE",
        "outputId": "f73f0989-0254-43eb-b462-7bea663b802b"
      },
      "outputs": [
        {
          "data": {
            "text/plain": [
              "array([0.37454012, 0.95071431, 0.73199394, 0.59865848])"
            ]
          },
          "execution_count": 23,
          "metadata": {},
          "output_type": "execute_result"
        }
      ],
      "source": [
        "np.random.seed(42)\n",
        "np.random.rand(4)"
      ]
    },
    {
      "cell_type": "markdown",
      "metadata": {
        "id": "Rw0z1tCl6TsF"
      },
      "source": [
        "## Array Attributes and Methods\n",
        "\n",
        "Let's discuss some useful attributes and methods for an array:"
      ]
    },
    {
      "cell_type": "code",
      "execution_count": null,
      "metadata": {
        "collapsed": true,
        "id": "TtP6_DKG6TsF"
      },
      "outputs": [],
      "source": [
        "arr = np.arange(25)\n",
        "ranarr = np.random.randint(0,50,10)"
      ]
    },
    {
      "cell_type": "code",
      "execution_count": null,
      "metadata": {
        "id": "tjlnQVs96TsF",
        "outputId": "5d6cd9da-c026-41d0-efe6-1dc58201fec8"
      },
      "outputs": [
        {
          "data": {
            "text/plain": [
              "array([ 0,  1,  2,  3,  4,  5,  6,  7,  8,  9, 10, 11, 12, 13, 14, 15, 16,\n",
              "       17, 18, 19, 20, 21, 22, 23, 24])"
            ]
          },
          "execution_count": 25,
          "metadata": {},
          "output_type": "execute_result"
        }
      ],
      "source": [
        "arr"
      ]
    },
    {
      "cell_type": "code",
      "execution_count": null,
      "metadata": {
        "id": "K5J92Gr56TsF",
        "outputId": "6817654b-61ae-4fa3-b9e5-6940eb0e0099"
      },
      "outputs": [
        {
          "data": {
            "text/plain": [
              "array([38, 18, 22, 10, 10, 23, 35, 39, 23,  2])"
            ]
          },
          "execution_count": 26,
          "metadata": {},
          "output_type": "execute_result"
        }
      ],
      "source": [
        "ranarr"
      ]
    },
    {
      "cell_type": "markdown",
      "metadata": {
        "id": "yPW-FLqn6TsF"
      },
      "source": [
        "## Reshape\n",
        "Returns an array containing the same data with a new shape. [[reference](https://docs.scipy.org/doc/numpy-1.15.0/reference/generated/numpy.reshape.html)]"
      ]
    },
    {
      "cell_type": "code",
      "execution_count": null,
      "metadata": {
        "id": "onPi0XU06TsG",
        "outputId": "9bfc9244-3b08-4748-9c59-b66216c609e7"
      },
      "outputs": [
        {
          "data": {
            "text/plain": [
              "array([[ 0,  1,  2,  3,  4],\n",
              "       [ 5,  6,  7,  8,  9],\n",
              "       [10, 11, 12, 13, 14],\n",
              "       [15, 16, 17, 18, 19],\n",
              "       [20, 21, 22, 23, 24]])"
            ]
          },
          "execution_count": 27,
          "metadata": {},
          "output_type": "execute_result"
        }
      ],
      "source": [
        "arr.reshape(5,5)"
      ]
    },
    {
      "cell_type": "markdown",
      "metadata": {
        "id": "_1HJxL6_6TsG"
      },
      "source": [
        "### max, min, argmax, argmin\n",
        "\n",
        "These are useful methods for finding max or min values. Or to find their index locations using argmin or argmax"
      ]
    },
    {
      "cell_type": "code",
      "execution_count": null,
      "metadata": {
        "id": "hQcq8v1R6TsG",
        "outputId": "ba6ff2ee-dc98-456f-d5a2-d5e18a2539a4"
      },
      "outputs": [
        {
          "data": {
            "text/plain": [
              "array([38, 18, 22, 10, 10, 23, 35, 39, 23,  2])"
            ]
          },
          "execution_count": 28,
          "metadata": {},
          "output_type": "execute_result"
        }
      ],
      "source": [
        "ranarr"
      ]
    },
    {
      "cell_type": "code",
      "execution_count": null,
      "metadata": {
        "id": "tvjCTwEm6TsG",
        "outputId": "f62dff50-6ada-48f0-cab6-4dd5e2a858b1"
      },
      "outputs": [
        {
          "data": {
            "text/plain": [
              "39"
            ]
          },
          "execution_count": 29,
          "metadata": {},
          "output_type": "execute_result"
        }
      ],
      "source": [
        "ranarr.max()"
      ]
    },
    {
      "cell_type": "code",
      "execution_count": null,
      "metadata": {
        "id": "i3NLuFSU6TsG",
        "outputId": "08025847-f03a-4603-c98d-d1500b76aa84"
      },
      "outputs": [
        {
          "data": {
            "text/plain": [
              "7"
            ]
          },
          "execution_count": 30,
          "metadata": {},
          "output_type": "execute_result"
        }
      ],
      "source": [
        "ranarr.argmax()"
      ]
    },
    {
      "cell_type": "code",
      "execution_count": null,
      "metadata": {
        "id": "Z_JqYuO-6TsH",
        "outputId": "ceefc581-dd24-4151-c66e-8809ec26182d"
      },
      "outputs": [
        {
          "data": {
            "text/plain": [
              "2"
            ]
          },
          "execution_count": 31,
          "metadata": {},
          "output_type": "execute_result"
        }
      ],
      "source": [
        "ranarr.min()"
      ]
    },
    {
      "cell_type": "code",
      "execution_count": null,
      "metadata": {
        "id": "bUC2wcw16TsH",
        "outputId": "a9b48250-d533-41ab-be91-ddaf0df7e5eb"
      },
      "outputs": [
        {
          "data": {
            "text/plain": [
              "9"
            ]
          },
          "execution_count": 32,
          "metadata": {},
          "output_type": "execute_result"
        }
      ],
      "source": [
        "ranarr.argmin()"
      ]
    },
    {
      "cell_type": "markdown",
      "metadata": {
        "id": "A_PG-bn46TsH"
      },
      "source": [
        "## Shape\n",
        "\n",
        "Shape is an attribute that arrays have (not a method):  [[reference](https://docs.scipy.org/doc/numpy-1.15.0/reference/generated/numpy.ndarray.shape.html)]"
      ]
    },
    {
      "cell_type": "code",
      "execution_count": null,
      "metadata": {
        "id": "T9lGVdi-6TsH",
        "outputId": "ea926f3f-6e99-4012-9a7a-b1b93fc5b2c9"
      },
      "outputs": [
        {
          "data": {
            "text/plain": [
              "(25,)"
            ]
          },
          "execution_count": 33,
          "metadata": {},
          "output_type": "execute_result"
        }
      ],
      "source": [
        "# Vector\n",
        "arr.shape"
      ]
    },
    {
      "cell_type": "code",
      "execution_count": null,
      "metadata": {
        "id": "D5-6Nqsp6TsI",
        "outputId": "72535233-5bcf-4931-9d9d-f664e0256fd0"
      },
      "outputs": [
        {
          "data": {
            "text/plain": [
              "array([[ 0,  1,  2,  3,  4,  5,  6,  7,  8,  9, 10, 11, 12, 13, 14, 15,\n",
              "        16, 17, 18, 19, 20, 21, 22, 23, 24]])"
            ]
          },
          "execution_count": 34,
          "metadata": {},
          "output_type": "execute_result"
        }
      ],
      "source": [
        "# Notice the two sets of brackets\n",
        "arr.reshape(1,25)"
      ]
    },
    {
      "cell_type": "code",
      "execution_count": null,
      "metadata": {
        "id": "nwWBH0h66TsI",
        "outputId": "4f304689-5ef2-41b0-9a91-549801cb3410"
      },
      "outputs": [
        {
          "data": {
            "text/plain": [
              "(1, 25)"
            ]
          },
          "execution_count": 35,
          "metadata": {},
          "output_type": "execute_result"
        }
      ],
      "source": [
        "arr.reshape(1,25).shape"
      ]
    },
    {
      "cell_type": "code",
      "execution_count": null,
      "metadata": {
        "id": "OLQJs6Vp6TsI",
        "outputId": "3228aef9-bf9c-4f15-fd04-6c93264441e4"
      },
      "outputs": [
        {
          "data": {
            "text/plain": [
              "array([[ 0],\n",
              "       [ 1],\n",
              "       [ 2],\n",
              "       [ 3],\n",
              "       [ 4],\n",
              "       [ 5],\n",
              "       [ 6],\n",
              "       [ 7],\n",
              "       [ 8],\n",
              "       [ 9],\n",
              "       [10],\n",
              "       [11],\n",
              "       [12],\n",
              "       [13],\n",
              "       [14],\n",
              "       [15],\n",
              "       [16],\n",
              "       [17],\n",
              "       [18],\n",
              "       [19],\n",
              "       [20],\n",
              "       [21],\n",
              "       [22],\n",
              "       [23],\n",
              "       [24]])"
            ]
          },
          "execution_count": 36,
          "metadata": {},
          "output_type": "execute_result"
        }
      ],
      "source": [
        "arr.reshape(25,1)"
      ]
    },
    {
      "cell_type": "code",
      "execution_count": null,
      "metadata": {
        "id": "vt9007Cg6TsJ",
        "outputId": "b544fc12-c7b7-4c77-e469-bb336f2e3c92"
      },
      "outputs": [
        {
          "data": {
            "text/plain": [
              "(25, 1)"
            ]
          },
          "execution_count": 37,
          "metadata": {},
          "output_type": "execute_result"
        }
      ],
      "source": [
        "arr.reshape(25,1).shape"
      ]
    },
    {
      "cell_type": "markdown",
      "metadata": {
        "id": "xoJuI0586TsJ"
      },
      "source": [
        "### dtype\n",
        "\n",
        "You can also grab the data type of the object in the array: [[reference](https://docs.scipy.org/doc/numpy-1.15.0/reference/generated/numpy.ndarray.dtype.html)]"
      ]
    },
    {
      "cell_type": "code",
      "execution_count": null,
      "metadata": {
        "id": "mDn-R_d56TsJ",
        "outputId": "d9930238-d78a-4f8e-8a06-a0d7e0f727e5"
      },
      "outputs": [
        {
          "data": {
            "text/plain": [
              "dtype('int32')"
            ]
          },
          "execution_count": 38,
          "metadata": {},
          "output_type": "execute_result"
        }
      ],
      "source": [
        "arr.dtype"
      ]
    },
    {
      "cell_type": "code",
      "execution_count": null,
      "metadata": {
        "id": "FwzBHo3y6TsJ",
        "outputId": "80e3eee7-6f06-4a24-e1d7-c582323be421"
      },
      "outputs": [
        {
          "data": {
            "text/plain": [
              "dtype('float64')"
            ]
          },
          "execution_count": 39,
          "metadata": {},
          "output_type": "execute_result"
        }
      ],
      "source": [
        "arr2 = np.array([1.2, 3.4, 5.6])\n",
        "arr2.dtype"
      ]
    },
    {
      "cell_type": "markdown",
      "metadata": {
        "id": "kuLANLZW6TsK"
      },
      "source": [
        "# Great Job!"
      ]
    }
  ],
  "metadata": {
    "anaconda-cloud": {},
    "kernelspec": {
      "display_name": "Python 3",
      "language": "python",
      "name": "python3"
    },
    "language_info": {
      "codemirror_mode": {
        "name": "ipython",
        "version": 3
      },
      "file_extension": ".py",
      "mimetype": "text/x-python",
      "name": "python",
      "nbconvert_exporter": "python",
      "pygments_lexer": "ipython3",
      "version": "3.7.4"
    },
    "colab": {
      "provenance": [],
      "include_colab_link": true
    }
  },
  "nbformat": 4,
  "nbformat_minor": 0
}